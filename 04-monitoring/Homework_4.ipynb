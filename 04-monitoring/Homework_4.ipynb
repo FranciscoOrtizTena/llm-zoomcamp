{
 "cells": [
  {
   "cell_type": "markdown",
   "id": "8c4e940e",
   "metadata": {},
   "source": [
    "# Getting the data"
   ]
  },
  {
   "cell_type": "code",
   "execution_count": 1,
   "id": "e62b0985",
   "metadata": {},
   "outputs": [],
   "source": [
    "import pandas as pd"
   ]
  },
  {
   "cell_type": "code",
   "execution_count": 2,
   "id": "2695cd8d",
   "metadata": {},
   "outputs": [],
   "source": [
    "github_url = 'https://github.com/DataTalksClub/llm-zoomcamp/blob/main/04-monitoring/data/results-gpt4o-mini.csv'\n",
    "url = f'{github_url}?raw=1'\n",
    "df = pd.read_csv(url)"
   ]
  },
  {
   "cell_type": "code",
   "execution_count": 3,
   "id": "c8b3aac8",
   "metadata": {},
   "outputs": [],
   "source": [
    "df = df.iloc[:300]"
   ]
  },
  {
   "cell_type": "code",
   "execution_count": 4,
   "id": "b8ab4dc7",
   "metadata": {},
   "outputs": [
    {
     "data": {
      "text/html": [
       "<div>\n",
       "<style scoped>\n",
       "    .dataframe tbody tr th:only-of-type {\n",
       "        vertical-align: middle;\n",
       "    }\n",
       "\n",
       "    .dataframe tbody tr th {\n",
       "        vertical-align: top;\n",
       "    }\n",
       "\n",
       "    .dataframe thead th {\n",
       "        text-align: right;\n",
       "    }\n",
       "</style>\n",
       "<table border=\"1\" class=\"dataframe\">\n",
       "  <thead>\n",
       "    <tr style=\"text-align: right;\">\n",
       "      <th></th>\n",
       "      <th>answer_llm</th>\n",
       "      <th>answer_orig</th>\n",
       "      <th>document</th>\n",
       "      <th>question</th>\n",
       "      <th>course</th>\n",
       "    </tr>\n",
       "  </thead>\n",
       "  <tbody>\n",
       "    <tr>\n",
       "      <th>0</th>\n",
       "      <td>You can sign up for the course by visiting the...</td>\n",
       "      <td>Machine Learning Zoomcamp FAQ\\nThe purpose of ...</td>\n",
       "      <td>0227b872</td>\n",
       "      <td>Where can I sign up for the course?</td>\n",
       "      <td>machine-learning-zoomcamp</td>\n",
       "    </tr>\n",
       "    <tr>\n",
       "      <th>1</th>\n",
       "      <td>You can sign up using the link provided in the...</td>\n",
       "      <td>Machine Learning Zoomcamp FAQ\\nThe purpose of ...</td>\n",
       "      <td>0227b872</td>\n",
       "      <td>Can you provide a link to sign up?</td>\n",
       "      <td>machine-learning-zoomcamp</td>\n",
       "    </tr>\n",
       "    <tr>\n",
       "      <th>2</th>\n",
       "      <td>Yes, there is an FAQ for the Machine Learning ...</td>\n",
       "      <td>Machine Learning Zoomcamp FAQ\\nThe purpose of ...</td>\n",
       "      <td>0227b872</td>\n",
       "      <td>Is there an FAQ for this Machine Learning course?</td>\n",
       "      <td>machine-learning-zoomcamp</td>\n",
       "    </tr>\n",
       "    <tr>\n",
       "      <th>3</th>\n",
       "      <td>The context does not provide any specific info...</td>\n",
       "      <td>Machine Learning Zoomcamp FAQ\\nThe purpose of ...</td>\n",
       "      <td>0227b872</td>\n",
       "      <td>Does this course have a GitHub repository for ...</td>\n",
       "      <td>machine-learning-zoomcamp</td>\n",
       "    </tr>\n",
       "    <tr>\n",
       "      <th>4</th>\n",
       "      <td>To structure your questions and answers for th...</td>\n",
       "      <td>Machine Learning Zoomcamp FAQ\\nThe purpose of ...</td>\n",
       "      <td>0227b872</td>\n",
       "      <td>How can I structure my questions and answers f...</td>\n",
       "      <td>machine-learning-zoomcamp</td>\n",
       "    </tr>\n",
       "    <tr>\n",
       "      <th>...</th>\n",
       "      <td>...</td>\n",
       "      <td>...</td>\n",
       "      <td>...</td>\n",
       "      <td>...</td>\n",
       "      <td>...</td>\n",
       "    </tr>\n",
       "    <tr>\n",
       "      <th>295</th>\n",
       "      <td>An alternative way to load the data using the ...</td>\n",
       "      <td>Above users showed how to load the dataset dir...</td>\n",
       "      <td>8d209d6d</td>\n",
       "      <td>What is an alternative way to load the data us...</td>\n",
       "      <td>machine-learning-zoomcamp</td>\n",
       "    </tr>\n",
       "    <tr>\n",
       "      <th>296</th>\n",
       "      <td>You can directly download the dataset from Git...</td>\n",
       "      <td>Above users showed how to load the dataset dir...</td>\n",
       "      <td>8d209d6d</td>\n",
       "      <td>How can I directly download the dataset from G...</td>\n",
       "      <td>machine-learning-zoomcamp</td>\n",
       "    </tr>\n",
       "    <tr>\n",
       "      <th>297</th>\n",
       "      <td>You can fetch data for homework using the `req...</td>\n",
       "      <td>Above users showed how to load the dataset dir...</td>\n",
       "      <td>8d209d6d</td>\n",
       "      <td>Could you share a method to fetch data for hom...</td>\n",
       "      <td>machine-learning-zoomcamp</td>\n",
       "    </tr>\n",
       "    <tr>\n",
       "      <th>298</th>\n",
       "      <td>If the status code is 200 when downloading dat...</td>\n",
       "      <td>Above users showed how to load the dataset dir...</td>\n",
       "      <td>8d209d6d</td>\n",
       "      <td>What should I do if the status code is 200 whe...</td>\n",
       "      <td>machine-learning-zoomcamp</td>\n",
       "    </tr>\n",
       "    <tr>\n",
       "      <th>299</th>\n",
       "      <td>If the file download fails when using the requ...</td>\n",
       "      <td>Above users showed how to load the dataset dir...</td>\n",
       "      <td>8d209d6d</td>\n",
       "      <td>What does the code using the requests library ...</td>\n",
       "      <td>machine-learning-zoomcamp</td>\n",
       "    </tr>\n",
       "  </tbody>\n",
       "</table>\n",
       "<p>300 rows × 5 columns</p>\n",
       "</div>"
      ],
      "text/plain": [
       "                                            answer_llm  \\\n",
       "0    You can sign up for the course by visiting the...   \n",
       "1    You can sign up using the link provided in the...   \n",
       "2    Yes, there is an FAQ for the Machine Learning ...   \n",
       "3    The context does not provide any specific info...   \n",
       "4    To structure your questions and answers for th...   \n",
       "..                                                 ...   \n",
       "295  An alternative way to load the data using the ...   \n",
       "296  You can directly download the dataset from Git...   \n",
       "297  You can fetch data for homework using the `req...   \n",
       "298  If the status code is 200 when downloading dat...   \n",
       "299  If the file download fails when using the requ...   \n",
       "\n",
       "                                           answer_orig  document  \\\n",
       "0    Machine Learning Zoomcamp FAQ\\nThe purpose of ...  0227b872   \n",
       "1    Machine Learning Zoomcamp FAQ\\nThe purpose of ...  0227b872   \n",
       "2    Machine Learning Zoomcamp FAQ\\nThe purpose of ...  0227b872   \n",
       "3    Machine Learning Zoomcamp FAQ\\nThe purpose of ...  0227b872   \n",
       "4    Machine Learning Zoomcamp FAQ\\nThe purpose of ...  0227b872   \n",
       "..                                                 ...       ...   \n",
       "295  Above users showed how to load the dataset dir...  8d209d6d   \n",
       "296  Above users showed how to load the dataset dir...  8d209d6d   \n",
       "297  Above users showed how to load the dataset dir...  8d209d6d   \n",
       "298  Above users showed how to load the dataset dir...  8d209d6d   \n",
       "299  Above users showed how to load the dataset dir...  8d209d6d   \n",
       "\n",
       "                                              question  \\\n",
       "0                  Where can I sign up for the course?   \n",
       "1                   Can you provide a link to sign up?   \n",
       "2    Is there an FAQ for this Machine Learning course?   \n",
       "3    Does this course have a GitHub repository for ...   \n",
       "4    How can I structure my questions and answers f...   \n",
       "..                                                 ...   \n",
       "295  What is an alternative way to load the data us...   \n",
       "296  How can I directly download the dataset from G...   \n",
       "297  Could you share a method to fetch data for hom...   \n",
       "298  What should I do if the status code is 200 whe...   \n",
       "299  What does the code using the requests library ...   \n",
       "\n",
       "                        course  \n",
       "0    machine-learning-zoomcamp  \n",
       "1    machine-learning-zoomcamp  \n",
       "2    machine-learning-zoomcamp  \n",
       "3    machine-learning-zoomcamp  \n",
       "4    machine-learning-zoomcamp  \n",
       "..                         ...  \n",
       "295  machine-learning-zoomcamp  \n",
       "296  machine-learning-zoomcamp  \n",
       "297  machine-learning-zoomcamp  \n",
       "298  machine-learning-zoomcamp  \n",
       "299  machine-learning-zoomcamp  \n",
       "\n",
       "[300 rows x 5 columns]"
      ]
     },
     "execution_count": 4,
     "metadata": {},
     "output_type": "execute_result"
    }
   ],
   "source": [
    "df"
   ]
  },
  {
   "cell_type": "markdown",
   "id": "1de4e06b",
   "metadata": {},
   "source": [
    "# Q1. Getting the embeddings model"
   ]
  },
  {
   "cell_type": "code",
   "execution_count": 5,
   "id": "039ab33e",
   "metadata": {},
   "outputs": [],
   "source": [
    "from sentence_transformers import SentenceTransformer"
   ]
  },
  {
   "cell_type": "code",
   "execution_count": 6,
   "id": "1edae1b0",
   "metadata": {},
   "outputs": [
    {
     "data": {
      "application/vnd.jupyter.widget-view+json": {
       "model_id": "82950fc6a37e46dcbba954896ca7a3a3",
       "version_major": 2,
       "version_minor": 0
      },
      "text/plain": [
       "modules.json:   0%|          | 0.00/229 [00:00<?, ?B/s]"
      ]
     },
     "metadata": {},
     "output_type": "display_data"
    },
    {
     "data": {
      "application/vnd.jupyter.widget-view+json": {
       "model_id": "45493b8d9de04d43ada218a8187956bc",
       "version_major": 2,
       "version_minor": 0
      },
      "text/plain": [
       "config_sentence_transformers.json:   0%|          | 0.00/212 [00:00<?, ?B/s]"
      ]
     },
     "metadata": {},
     "output_type": "display_data"
    },
    {
     "name": "stderr",
     "output_type": "stream",
     "text": [
      "You try to use a model that was created with version 3.0.0.dev0, however, your version is 2.7.0. This might cause unexpected behavior or errors. In that case, try to update to the latest version.\n",
      "\n",
      "\n",
      "\n"
     ]
    },
    {
     "data": {
      "application/vnd.jupyter.widget-view+json": {
       "model_id": "8d0bebd330664aa5b27f5966f0bbfda4",
       "version_major": 2,
       "version_minor": 0
      },
      "text/plain": [
       "README.md:   0%|          | 0.00/8.71k [00:00<?, ?B/s]"
      ]
     },
     "metadata": {},
     "output_type": "display_data"
    },
    {
     "data": {
      "application/vnd.jupyter.widget-view+json": {
       "model_id": "677dcbdcc4664ac8b9b8449b4411d258",
       "version_major": 2,
       "version_minor": 0
      },
      "text/plain": [
       "sentence_bert_config.json:   0%|          | 0.00/53.0 [00:00<?, ?B/s]"
      ]
     },
     "metadata": {},
     "output_type": "display_data"
    },
    {
     "data": {
      "application/vnd.jupyter.widget-view+json": {
       "model_id": "fcc8ca3000d74cb89295e41799a68fa0",
       "version_major": 2,
       "version_minor": 0
      },
      "text/plain": [
       "config.json:   0%|          | 0.00/571 [00:00<?, ?B/s]"
      ]
     },
     "metadata": {},
     "output_type": "display_data"
    },
    {
     "data": {
      "application/vnd.jupyter.widget-view+json": {
       "model_id": "2ca7e05f9e1b4ca4bcb46bff332bcb9f",
       "version_major": 2,
       "version_minor": 0
      },
      "text/plain": [
       "model.safetensors:   0%|          | 0.00/438M [00:00<?, ?B/s]"
      ]
     },
     "metadata": {},
     "output_type": "display_data"
    },
    {
     "data": {
      "application/vnd.jupyter.widget-view+json": {
       "model_id": "fbc4e65f5633440ca1f0b61c6ab1d68c",
       "version_major": 2,
       "version_minor": 0
      },
      "text/plain": [
       "tokenizer_config.json:   0%|          | 0.00/363 [00:00<?, ?B/s]"
      ]
     },
     "metadata": {},
     "output_type": "display_data"
    },
    {
     "data": {
      "application/vnd.jupyter.widget-view+json": {
       "model_id": "c325a64575254a179c0d649038c13b61",
       "version_major": 2,
       "version_minor": 0
      },
      "text/plain": [
       "vocab.txt:   0%|          | 0.00/232k [00:00<?, ?B/s]"
      ]
     },
     "metadata": {},
     "output_type": "display_data"
    },
    {
     "data": {
      "application/vnd.jupyter.widget-view+json": {
       "model_id": "481cebf3406a47ad9db3f2166b146cbd",
       "version_major": 2,
       "version_minor": 0
      },
      "text/plain": [
       "tokenizer.json:   0%|          | 0.00/466k [00:00<?, ?B/s]"
      ]
     },
     "metadata": {},
     "output_type": "display_data"
    },
    {
     "data": {
      "application/vnd.jupyter.widget-view+json": {
       "model_id": "9c838105f19d4e08b3d43794d841d99b",
       "version_major": 2,
       "version_minor": 0
      },
      "text/plain": [
       "special_tokens_map.json:   0%|          | 0.00/239 [00:00<?, ?B/s]"
      ]
     },
     "metadata": {},
     "output_type": "display_data"
    },
    {
     "data": {
      "application/vnd.jupyter.widget-view+json": {
       "model_id": "741b588f047a4af8ad6665fe043c2f8a",
       "version_major": 2,
       "version_minor": 0
      },
      "text/plain": [
       "1_Pooling/config.json:   0%|          | 0.00/190 [00:00<?, ?B/s]"
      ]
     },
     "metadata": {},
     "output_type": "display_data"
    }
   ],
   "source": [
    "model_name = 'multi-qa-mpnet-base-dot-v1'\n",
    "model = SentenceTransformer(model_name)"
   ]
  },
  {
   "cell_type": "code",
   "execution_count": 7,
   "id": "ddf9a0c7",
   "metadata": {},
   "outputs": [],
   "source": [
    "answer_llm = df.iloc[0].answer_llm"
   ]
  },
  {
   "cell_type": "code",
   "execution_count": 12,
   "id": "cea5f1f7",
   "metadata": {},
   "outputs": [
    {
     "data": {
      "text/plain": [
       "'You can sign up for the course by visiting the course page at [http://mlzoomcamp.com/](http://mlzoomcamp.com/).'"
      ]
     },
     "execution_count": 12,
     "metadata": {},
     "output_type": "execute_result"
    }
   ],
   "source": [
    "answer_llm"
   ]
  },
  {
   "cell_type": "code",
   "execution_count": 11,
   "id": "b97d7488",
   "metadata": {},
   "outputs": [
    {
     "name": "stderr",
     "output_type": "stream",
     "text": [
      "/Users/Frank/Documentos/llm_zoomcamp/03_vector_search/vector_search_env/lib/python3.9/site-packages/transformers/models/mpnet/modeling_mpnet.py:1051: UserWarning: cumsum_out_mps supported by MPS on MacOS 13+, please upgrade (Triggered internally at /Users/runner/work/pytorch/pytorch/pytorch/aten/src/ATen/native/mps/operations/UnaryOps.mm:425.)\n",
      "  incremental_indices = torch.cumsum(mask, dim=1).type_as(mask) * mask\n"
     ]
    },
    {
     "data": {
      "text/plain": [
       "-0.4224466"
      ]
     },
     "execution_count": 11,
     "metadata": {},
     "output_type": "execute_result"
    }
   ],
   "source": [
    "answer_llm_emb = model.encode(answer_llm)\n",
    "answer_llm_emb[0]"
   ]
  },
  {
   "cell_type": "markdown",
   "id": "69f73b6d",
   "metadata": {},
   "source": [
    "# Q2. Computing the dot product"
   ]
  },
  {
   "cell_type": "code",
   "execution_count": 14,
   "id": "dd921b17",
   "metadata": {},
   "outputs": [
    {
     "data": {
      "text/plain": [
       "('Machine Learning Zoomcamp FAQ\\nThe purpose of this document is to capture frequently asked technical questions.\\nWe did this for our data engineering course and it worked quite well. Check this document for inspiration on how to structure your questions and answers:\\nData Engineering Zoomcamp FAQ\\nIn the course GitHub repository there’s a link. Here it is: https://airtable.com/shryxwLd0COOEaqXo\\nwork',\n",
       " 'You can sign up for the course by visiting the course page at [http://mlzoomcamp.com/](http://mlzoomcamp.com/).')"
      ]
     },
     "execution_count": 14,
     "metadata": {},
     "output_type": "execute_result"
    }
   ],
   "source": [
    "df.iloc[0].answer_orig, df.iloc[0].answer_llm"
   ]
  },
  {
   "cell_type": "code",
   "execution_count": 15,
   "id": "f7f35446",
   "metadata": {},
   "outputs": [
    {
     "name": "stderr",
     "output_type": "stream",
     "text": [
      "300it [01:05,  4.60it/s]\n"
     ]
    }
   ],
   "source": [
    "import numpy as np\n",
    "from tqdm import tqdm\n",
    "\n",
    "answer_embeddings_list = []\n",
    "evaluations = []\n",
    "\n",
    "for index, row in tqdm(df.iterrows()):\n",
    "    answer_llm = row.answer_llm\n",
    "    answer_gt = row.answer_orig\n",
    "\n",
    "    answer_llm_embeddings = model.encode(answer_llm)\n",
    "    answer_gt_embeddings = model.encode(answer_gt)\n",
    "\n",
    "    answer_embeddings_list.append((answer_llm_embeddings, answer_gt_embeddings))\n",
    "    score = np.dot(answer_llm_embeddings, answer_gt_embeddings)\n",
    "    evaluations.append(score)"
   ]
  },
  {
   "cell_type": "code",
   "execution_count": 16,
   "id": "ed841f85",
   "metadata": {},
   "outputs": [
    {
     "data": {
      "text/plain": [
       "31.674306869506836"
      ]
     },
     "execution_count": 16,
     "metadata": {},
     "output_type": "execute_result"
    }
   ],
   "source": [
    "np.percentile(evaluations, 75)"
   ]
  },
  {
   "cell_type": "markdown",
   "id": "0bac19e0",
   "metadata": {},
   "source": [
    "# Q3. Computing the cosine"
   ]
  },
  {
   "cell_type": "code",
   "execution_count": 28,
   "id": "3f226a22",
   "metadata": {},
   "outputs": [
    {
     "data": {
      "text/plain": [
       "768"
      ]
     },
     "execution_count": 28,
     "metadata": {},
     "output_type": "execute_result"
    }
   ],
   "source": [
    "len(answer_embeddings_list[0][1])"
   ]
  },
  {
   "cell_type": "code",
   "execution_count": 31,
   "id": "0484c424",
   "metadata": {},
   "outputs": [],
   "source": [
    "normalized_embeddings = []\n",
    "for x in answer_embeddings_list:\n",
    "    normalized_sublist = []\n",
    "    for y in x:\n",
    "        norm = np.linalg.norm(y)\n",
    "        if norm == 0:\n",
    "            normalized_sublist.append(y)\n",
    "        else:\n",
    "            normalized_sublist.append(y / norm)\n",
    "    normalized_embeddings.append(normalized_sublist)"
   ]
  },
  {
   "cell_type": "code",
   "execution_count": 34,
   "id": "5830e592",
   "metadata": {},
   "outputs": [],
   "source": [
    "dot_products = []\n",
    "for pair in normalized_embeddings:\n",
    "    dot_product = np.dot(pair[0], pair[1])\n",
    "    dot_products.append(dot_product)"
   ]
  },
  {
   "cell_type": "code",
   "execution_count": 35,
   "id": "d3a5d2f2",
   "metadata": {},
   "outputs": [
    {
     "data": {
      "text/plain": [
       "0.8362347036600113"
      ]
     },
     "execution_count": 35,
     "metadata": {},
     "output_type": "execute_result"
    }
   ],
   "source": [
    "np.percentile(dot_products, 75)"
   ]
  },
  {
   "cell_type": "markdown",
   "id": "02b6d816",
   "metadata": {},
   "source": [
    "# Q4. Rouge"
   ]
  },
  {
   "cell_type": "code",
   "execution_count": 36,
   "id": "5a187864",
   "metadata": {},
   "outputs": [],
   "source": [
    "from rouge import Rouge\n",
    "rouge_scorer = Rouge()\n",
    "\n",
    "r = df.iloc[10].to_dict()\n",
    "scores = rouge_scorer.get_scores(r['answer_llm'], r['answer_orig'])[0]"
   ]
  },
  {
   "cell_type": "code",
   "execution_count": 37,
   "id": "8cb5e4bf",
   "metadata": {},
   "outputs": [
    {
     "data": {
      "text/plain": [
       "{'answer_llm': \"Yes, all sessions are recorded, so if you miss one, you won't miss anything. You can catch up on the content later. Additionally, you can submit your questions in advance for office hours, and those sessions are also recorded.\",\n",
       " 'answer_orig': 'Everything is recorded, so you won’t miss anything. You will be able to ask your questions for office hours in advance and we will cover them during the live stream. Also, you can always ask questions in Slack.',\n",
       " 'document': '5170565b',\n",
       " 'question': 'Are sessions recorded if I miss one?',\n",
       " 'course': 'machine-learning-zoomcamp'}"
      ]
     },
     "execution_count": 37,
     "metadata": {},
     "output_type": "execute_result"
    }
   ],
   "source": [
    "r"
   ]
  },
  {
   "cell_type": "code",
   "execution_count": 40,
   "id": "9538ab95",
   "metadata": {},
   "outputs": [
    {
     "data": {
      "text/plain": [
       "{'rouge-1': {'r': 0.45454545454545453,\n",
       "  'p': 0.45454545454545453,\n",
       "  'f': 0.45454544954545456},\n",
       " 'rouge-2': {'r': 0.21621621621621623,\n",
       "  'p': 0.21621621621621623,\n",
       "  'f': 0.21621621121621637},\n",
       " 'rouge-l': {'r': 0.3939393939393939,\n",
       "  'p': 0.3939393939393939,\n",
       "  'f': 0.393939388939394}}"
      ]
     },
     "execution_count": 40,
     "metadata": {},
     "output_type": "execute_result"
    }
   ],
   "source": [
    "scores"
   ]
  },
  {
   "cell_type": "code",
   "execution_count": 39,
   "id": "d14b8fcc",
   "metadata": {},
   "outputs": [
    {
     "data": {
      "text/plain": [
       "0.45454544954545456"
      ]
     },
     "execution_count": 39,
     "metadata": {},
     "output_type": "execute_result"
    }
   ],
   "source": [
    "scores['rouge-1']['f']"
   ]
  },
  {
   "cell_type": "markdown",
   "id": "602efcd1",
   "metadata": {},
   "source": [
    "# Q5. Average rouge score"
   ]
  },
  {
   "cell_type": "code",
   "execution_count": 44,
   "id": "badc1008",
   "metadata": {},
   "outputs": [
    {
     "data": {
      "text/plain": [
       "0.35490034990035496"
      ]
     },
     "execution_count": 44,
     "metadata": {},
     "output_type": "execute_result"
    }
   ],
   "source": [
    "np.mean([scores['rouge-1']['f'],scores['rouge-2']['f'],scores['rouge-l']['f']])"
   ]
  },
  {
   "cell_type": "markdown",
   "id": "7b1d4302",
   "metadata": {},
   "source": [
    "# Q6. Average rouge score for all the data points"
   ]
  },
  {
   "cell_type": "code",
   "execution_count": 56,
   "id": "8b8de03a",
   "metadata": {},
   "outputs": [
    {
     "name": "stderr",
     "output_type": "stream",
     "text": [
      "300it [00:00, 444.43it/s]\n"
     ]
    }
   ],
   "source": [
    "json_rouge = {\n",
    "    'rouge_1': list(),\n",
    "    'rouge_2': list(),\n",
    "    'rouge_l': list()\n",
    "}\n",
    "for item in tqdm(df.itertuples()):\n",
    "    scores = rouge_scorer.get_scores(item.answer_llm, item.answer_orig)[0]\n",
    "    json_rouge['rouge_1'].append(scores['rouge-1']['f'])\n",
    "    json_rouge['rouge_2'].append(scores['rouge-2']['f'])\n",
    "    json_rouge['rouge_l'].append(scores['rouge-l']['f'])"
   ]
  },
  {
   "cell_type": "code",
   "execution_count": 58,
   "id": "21dc0bac",
   "metadata": {},
   "outputs": [
    {
     "data": {
      "text/html": [
       "<div>\n",
       "<style scoped>\n",
       "    .dataframe tbody tr th:only-of-type {\n",
       "        vertical-align: middle;\n",
       "    }\n",
       "\n",
       "    .dataframe tbody tr th {\n",
       "        vertical-align: top;\n",
       "    }\n",
       "\n",
       "    .dataframe thead th {\n",
       "        text-align: right;\n",
       "    }\n",
       "</style>\n",
       "<table border=\"1\" class=\"dataframe\">\n",
       "  <thead>\n",
       "    <tr style=\"text-align: right;\">\n",
       "      <th></th>\n",
       "      <th>rouge_1</th>\n",
       "      <th>rouge_2</th>\n",
       "      <th>rouge_l</th>\n",
       "    </tr>\n",
       "  </thead>\n",
       "  <tbody>\n",
       "    <tr>\n",
       "      <th>0</th>\n",
       "      <td>0.095238</td>\n",
       "      <td>0.028169</td>\n",
       "      <td>0.095238</td>\n",
       "    </tr>\n",
       "    <tr>\n",
       "      <th>1</th>\n",
       "      <td>0.125000</td>\n",
       "      <td>0.055556</td>\n",
       "      <td>0.093750</td>\n",
       "    </tr>\n",
       "    <tr>\n",
       "      <th>2</th>\n",
       "      <td>0.415584</td>\n",
       "      <td>0.177778</td>\n",
       "      <td>0.389610</td>\n",
       "    </tr>\n",
       "    <tr>\n",
       "      <th>3</th>\n",
       "      <td>0.216216</td>\n",
       "      <td>0.047059</td>\n",
       "      <td>0.189189</td>\n",
       "    </tr>\n",
       "    <tr>\n",
       "      <th>4</th>\n",
       "      <td>0.142076</td>\n",
       "      <td>0.033898</td>\n",
       "      <td>0.120219</td>\n",
       "    </tr>\n",
       "  </tbody>\n",
       "</table>\n",
       "</div>"
      ],
      "text/plain": [
       "    rouge_1   rouge_2   rouge_l\n",
       "0  0.095238  0.028169  0.095238\n",
       "1  0.125000  0.055556  0.093750\n",
       "2  0.415584  0.177778  0.389610\n",
       "3  0.216216  0.047059  0.189189\n",
       "4  0.142076  0.033898  0.120219"
      ]
     },
     "execution_count": 58,
     "metadata": {},
     "output_type": "execute_result"
    }
   ],
   "source": [
    "df_rouge = pd.DataFrame(json_rouge)\n",
    "df_rouge.head()"
   ]
  },
  {
   "cell_type": "code",
   "execution_count": 61,
   "id": "b4f7de7a",
   "metadata": {},
   "outputs": [
    {
     "data": {
      "text/plain": [
       "0.20696501983423318"
      ]
     },
     "execution_count": 61,
     "metadata": {},
     "output_type": "execute_result"
    }
   ],
   "source": [
    "df_rouge.describe()['rouge_2']['mean']"
   ]
  }
 ],
 "metadata": {
  "kernelspec": {
   "display_name": "vector_search",
   "language": "python",
   "name": "vector_search"
  },
  "language_info": {
   "codemirror_mode": {
    "name": "ipython",
    "version": 3
   },
   "file_extension": ".py",
   "mimetype": "text/x-python",
   "name": "python",
   "nbconvert_exporter": "python",
   "pygments_lexer": "ipython3",
   "version": "3.9.12"
  }
 },
 "nbformat": 4,
 "nbformat_minor": 5
}
