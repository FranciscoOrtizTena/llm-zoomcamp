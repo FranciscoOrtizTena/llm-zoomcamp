{
 "cells": [
  {
   "cell_type": "code",
   "execution_count": 1,
   "id": "b41869cd-1355-4f6a-b0b7-52cf9584a403",
   "metadata": {},
   "outputs": [],
   "source": [
    "import openai"
   ]
  },
  {
   "cell_type": "code",
   "execution_count": 2,
   "id": "23094b6c-d6b2-4445-9685-e6e33e0d70ee",
   "metadata": {},
   "outputs": [],
   "source": [
    "from openai import OpenAI"
   ]
  },
  {
   "cell_type": "code",
   "execution_count": 3,
   "id": "55624589-63cc-47be-9847-67e264bafe56",
   "metadata": {},
   "outputs": [],
   "source": [
    "client = OpenAI()"
   ]
  },
  {
   "cell_type": "code",
   "execution_count": 4,
   "id": "27162f9c-0aeb-41dc-900e-4b42acec92d2",
   "metadata": {},
   "outputs": [],
   "source": [
    "import os"
   ]
  },
  {
   "cell_type": "code",
   "execution_count": 5,
   "id": "71590092-3fc7-46b0-b977-0d07c2bce13f",
   "metadata": {},
   "outputs": [],
   "source": [
    "response = client.chat.completions.create(\n",
    "    model='gpt-4o-2024-05-13',\n",
    "    messages=[{\"role\": \"user\", \"content\": \"is it too late join the curs?\"}]\n",
    ")"
   ]
  },
  {
   "cell_type": "code",
   "execution_count": 6,
   "id": "17d370ab-8c34-4c15-a3fe-1df5b7b055de",
   "metadata": {},
   "outputs": [
    {
     "data": {
      "text/plain": [
       "\"It depends on the specific course you are referring to. Enrollment deadlines vary widely depending on the institution, the course format (e.g., online vs. in-person), and the duration of the course. If you provide more details about the course, such as the institution offering it and the term for which you are interested, I can offer more specific advice. \\n\\nIn general, if you're unsure about the enrollment timeline:\\n\\n1. **Check the Course Website:** Most academic institutions and online course providers list important dates on their official websites.\\n2. **Contact the Instructor or Institution:** Reach out directly to the course instructor or the institution's admissions office. They can provide information on whether late enrollment is possible and what steps you might need to take.\\n3. **Online Platforms:** If it's an online course from platforms like Coursera, Udacity, or edX, they often have flexible enrollment options.\\n\\nAlways keep an eye out for prerequisite requirements and any additional fees that may apply for late registration.\""
      ]
     },
     "execution_count": 6,
     "metadata": {},
     "output_type": "execute_result"
    }
   ],
   "source": [
    "response.choices[0].message.content"
   ]
  },
  {
   "cell_type": "code",
   "execution_count": null,
   "id": "29846e05-deef-4234-a212-00dcfb05926c",
   "metadata": {},
   "outputs": [],
   "source": []
  }
 ],
 "metadata": {
  "kernelspec": {
   "display_name": "Python 3 (ipykernel)",
   "language": "python",
   "name": "python3"
  },
  "language_info": {
   "codemirror_mode": {
    "name": "ipython",
    "version": 3
   },
   "file_extension": ".py",
   "mimetype": "text/x-python",
   "name": "python",
   "nbconvert_exporter": "python",
   "pygments_lexer": "ipython3",
   "version": "3.10.13"
  }
 },
 "nbformat": 4,
 "nbformat_minor": 5
}
